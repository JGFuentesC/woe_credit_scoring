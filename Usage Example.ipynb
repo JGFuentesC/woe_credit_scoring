{
 "cells": [
  {
   "cell_type": "markdown",
   "metadata": {},
   "source": [
    "## Dependencies"
   ]
  },
  {
   "cell_type": "code",
   "execution_count": 1,
   "metadata": {
    "ExecuteTime": {
     "end_time": "2022-06-30T01:23:01.836901Z",
     "start_time": "2022-06-30T01:23:01.822225Z"
    }
   },
   "outputs": [],
   "source": [
    "import pandas as pd \n",
    "from CreditScoringToolkit import frequency_table\n",
    "from CreditScoringToolkit import DiscreteNormalizer\n",
    "from CreditScoringToolkit import WoeEncoder\n",
    "from CreditScoringToolkit import WoeContinuousFeatureSelector\n",
    "from CreditScoringToolkit import WoeDiscreteFeatureSelector\n",
    "from CreditScoringToolkit import CreditScoring\n",
    "from sklearn.linear_model import LogisticRegression\n",
    "from sklearn.metrics import roc_auc_score\n",
    "\n",
    "import matplotlib.pyplot as plt\n",
    "import seaborn as sns\n",
    "\n",
    "import warnings\n",
    "warnings.filterwarnings(\"ignore\", category=UserWarning, module=\"sklearn.preprocessing._discretization\")"
   ]
  },
  {
   "cell_type": "markdown",
   "metadata": {},
   "source": [
    "## Reading example data"
   ]
  },
  {
   "cell_type": "code",
   "execution_count": 2,
   "metadata": {
    "ExecuteTime": {
     "end_time": "2022-06-30T01:09:36.696579Z",
     "start_time": "2022-06-30T01:09:36.660912Z"
    }
   },
   "outputs": [],
   "source": [
    "#  Read example data for train and validation (loan applications)\n",
    "train = pd.read_csv('example_data/train.csv')\n",
    "valid = pd.read_csv('example_data/valid.csv')   "
   ]
  },
  {
   "cell_type": "markdown",
   "metadata": {},
   "source": [
    "## Defining feature type"
   ]
  },
  {
   "cell_type": "code",
   "execution_count": 3,
   "metadata": {
    "ExecuteTime": {
     "end_time": "2022-06-30T01:09:37.294731Z",
     "start_time": "2022-06-30T01:09:37.285010Z"
    }
   },
   "outputs": [],
   "source": [
    "#  Assign features lists by type, file contains \"C_\" prefix for continuous, and \"D_\" for discrete.\n",
    "vard = [v for v in train.columns if v[:2]=='D_']\n",
    "varc = [v for v in train.columns if v[:2]=='C_']"
   ]
  },
  {
   "cell_type": "markdown",
   "metadata": {},
   "source": [
    "## Normalize Discrete Features"
   ]
  },
  {
   "cell_type": "code",
   "execution_count": 4,
   "metadata": {
    "ExecuteTime": {
     "end_time": "2022-06-30T01:09:38.039359Z",
     "start_time": "2022-06-30T01:09:37.932006Z"
    }
   },
   "outputs": [
    {
     "name": "stdout",
     "output_type": "stream",
     "text": [
      "**** Frequency Table for D_OCCUPATION_TYPE ****\n",
      "\n",
      "                   Abs. Freq.  Rel. Freq.  Cum. Abs. Freq.  Cum. Rel. Freq.\n",
      "D_OCCUPATION_TYPE                                                          \n",
      "Laborers                  166       0.166              166            0.166\n",
      "MISSING                   325       0.325              491            0.491\n",
      "SMALL CATEGORIES          395       0.395              886            0.886\n",
      "Sales staff               114       0.114             1000            1.000\n",
      "\n",
      "\n",
      "\n",
      "\n",
      "**** Frequency Table for D_NAME_CONTRACT_TYPE ****\n",
      "\n",
      "                      Abs. Freq.  Rel. Freq.  Cum. Abs. Freq.  Cum. Rel. Freq.\n",
      "D_NAME_CONTRACT_TYPE                                                          \n",
      "Cash loans                   897       0.897              897            0.897\n",
      "Revolving loans              103       0.103             1000            1.000\n",
      "\n",
      "\n",
      "\n",
      "\n",
      "**** Frequency Table for D_CODE_GENDER ****\n",
      "\n",
      "               Abs. Freq.  Rel. Freq.  Cum. Abs. Freq.  Cum. Rel. Freq.\n",
      "D_CODE_GENDER                                                          \n",
      "F                     659       0.659              659            0.659\n",
      "M                     341       0.341             1000            1.000\n",
      "\n",
      "\n",
      "\n",
      "\n",
      "**** Frequency Table for D_FLAG_OWN_CAR ****\n",
      "\n",
      "                Abs. Freq.  Rel. Freq.  Cum. Abs. Freq.  Cum. Rel. Freq.\n",
      "D_FLAG_OWN_CAR                                                          \n",
      "N                      668       0.668              668            0.668\n",
      "Y                      332       0.332             1000            1.000\n",
      "\n",
      "\n",
      "\n",
      "\n",
      "**** Frequency Table for D_FLAG_OWN_REALTY ****\n",
      "\n",
      "                   Abs. Freq.  Rel. Freq.  Cum. Abs. Freq.  Cum. Rel. Freq.\n",
      "D_FLAG_OWN_REALTY                                                          \n",
      "N                         287       0.287              287            0.287\n",
      "Y                         713       0.713             1000            1.000\n",
      "\n",
      "\n",
      "\n",
      "\n",
      "**** Frequency Table for D_NAME_INCOME_TYPE ****\n",
      "\n",
      "                      Abs. Freq.  Rel. Freq.  Cum. Abs. Freq.  Cum. Rel. Freq.\n",
      "D_NAME_INCOME_TYPE                                                            \n",
      "Commercial associate         225       0.225              225            0.225\n",
      "Pensioner                    179       0.179              404            0.404\n",
      "Working                      596       0.596             1000            1.000\n",
      "\n",
      "\n",
      "\n",
      "\n",
      "**** Frequency Table for D_NAME_EDUCATION_TYPE ****\n",
      "\n",
      "                               Abs. Freq.  Rel. Freq.  Cum. Abs. Freq.  \\\n",
      "D_NAME_EDUCATION_TYPE                                                    \n",
      "Higher education                      243       0.243              243   \n",
      "Secondary / secondary special         757       0.757             1000   \n",
      "\n",
      "                               Cum. Rel. Freq.  \n",
      "D_NAME_EDUCATION_TYPE                           \n",
      "Higher education                         0.243  \n",
      "Secondary / secondary special            1.000  \n",
      "\n",
      "\n",
      "\n",
      "\n",
      "**** Frequency Table for D_NAME_FAMILY_STATUS ****\n",
      "\n",
      "                      Abs. Freq.  Rel. Freq.  Cum. Abs. Freq.  Cum. Rel. Freq.\n",
      "D_NAME_FAMILY_STATUS                                                          \n",
      "Civil marriage               102       0.102              102            0.102\n",
      "Married                      620       0.620              722            0.722\n",
      "SMALL CATEGORIES             117       0.117              839            0.839\n",
      "Single / not married         161       0.161             1000            1.000\n",
      "\n",
      "\n",
      "\n",
      "\n",
      "**** Frequency Table for D_NAME_HOUSING_TYPE ****\n",
      "\n",
      "                     Abs. Freq.  Rel. Freq.  Cum. Abs. Freq.  Cum. Rel. Freq.\n",
      "D_NAME_HOUSING_TYPE                                                          \n",
      "House / apartment           878       0.878              878            0.878\n",
      "SMALL CATEGORIES            122       0.122             1000            1.000\n",
      "\n",
      "\n",
      "\n",
      "\n",
      "**** Frequency Table for D_FLAG_PHONE ****\n",
      "\n",
      "              Abs. Freq.  Rel. Freq.  Cum. Abs. Freq.  Cum. Rel. Freq.\n",
      "D_FLAG_PHONE                                                          \n",
      "0                    721       0.721              721            0.721\n",
      "1                    279       0.279             1000            1.000\n",
      "\n",
      "\n",
      "\n",
      "\n",
      "**** Frequency Table for D_WEEKDAY_APPR_PROCESS_START ****\n",
      "\n",
      "                              Abs. Freq.  Rel. Freq.  Cum. Abs. Freq.  \\\n",
      "D_WEEKDAY_APPR_PROCESS_START                                            \n",
      "FRIDAY                               145       0.145              145   \n",
      "MONDAY                               170       0.170              315   \n",
      "SATURDAY                             106       0.106              421   \n",
      "THURSDAY                             235       0.235              656   \n",
      "TUESDAY                              177       0.177              833   \n",
      "WEDNESDAY                            167       0.167             1000   \n",
      "\n",
      "                              Cum. Rel. Freq.  \n",
      "D_WEEKDAY_APPR_PROCESS_START                   \n",
      "FRIDAY                                  0.145  \n",
      "MONDAY                                  0.315  \n",
      "SATURDAY                                0.421  \n",
      "THURSDAY                                0.656  \n",
      "TUESDAY                                 0.833  \n",
      "WEDNESDAY                               1.000  \n",
      "\n",
      "\n",
      "\n",
      "\n",
      "**** Frequency Table for D_NAME_TYPE_SUITE ****\n",
      "\n",
      "                   Abs. Freq.  Rel. Freq.  Cum. Abs. Freq.  Cum. Rel. Freq.\n",
      "D_NAME_TYPE_SUITE                                                          \n",
      "Family                    126       0.126              126            0.126\n",
      "Unaccompanied             874       0.874             1000            1.000\n",
      "\n",
      "\n",
      "\n",
      "\n",
      "**** Frequency Table for D_HOUSETYPE_MODE ****\n",
      "\n",
      "                  Abs. Freq.  Rel. Freq.  Cum. Abs. Freq.  Cum. Rel. Freq.\n",
      "D_HOUSETYPE_MODE                                                          \n",
      "MISSING                  490        0.49              490             0.49\n",
      "block of flats           510        0.51             1000             1.00\n",
      "\n",
      "\n",
      "\n",
      "\n",
      "**** Frequency Table for D_WALLSMATERIAL_MODE ****\n",
      "\n",
      "                      Abs. Freq.  Rel. Freq.  Cum. Abs. Freq.  Cum. Rel. Freq.\n",
      "D_WALLSMATERIAL_MODE                                                          \n",
      "MISSING                      560       0.560              560            0.560\n",
      "Panel                        227       0.227              787            0.787\n",
      "Stone, brick                 213       0.213             1000            1.000\n",
      "\n",
      "\n",
      "\n",
      "\n"
     ]
    }
   ],
   "source": [
    "#  In this example, we aggregate categories with less than 10% of relative frequency\n",
    "#  into a new category called 'SMALL CATEGORIES', if new created category don't reach\n",
    "#  given relative frequency threshold (10%) then the most frequent category is imputed.\n",
    "#  All missing values are treatead as the separate category MISSING\n",
    "\n",
    "dn = DiscreteNormalizer(normalization_threshold=0.1,default_category='SMALL CATEGORIES')\n",
    "dn.fit(train[vard])\n",
    "Xt = dn.transform(train[vard])\n",
    "frequency_table(Xt,vard)"
   ]
  },
  {
   "cell_type": "markdown",
   "metadata": {},
   "source": [
    "### Check if Normalization process didn't produce unary features"
   ]
  },
  {
   "cell_type": "code",
   "execution_count": 5,
   "metadata": {
    "ExecuteTime": {
     "end_time": "2022-06-30T01:09:39.437928Z",
     "start_time": "2022-06-30T01:09:39.421827Z"
    }
   },
   "outputs": [
    {
     "data": {
      "text/plain": [
       "[]"
      ]
     },
     "execution_count": 5,
     "metadata": {},
     "output_type": "execute_result"
    }
   ],
   "source": [
    "unary = [v for v in vard if Xt[v].nunique()==1]\n",
    "unary"
   ]
  },
  {
   "cell_type": "markdown",
   "metadata": {},
   "source": [
    "## WoE Based Best Feature Selection"
   ]
  },
  {
   "cell_type": "code",
   "execution_count": 6,
   "metadata": {
    "ExecuteTime": {
     "end_time": "2022-06-30T01:09:53.304289Z",
     "start_time": "2022-06-30T01:09:40.169735Z"
    }
   },
   "outputs": [
    {
     "name": "stderr",
     "output_type": "stream",
     "text": [
      "/Users/josegustavofuentescabrera/entornos/woe/lib/python3.13/site-packages/sklearn/preprocessing/_discretization.py:306: UserWarning: Bins whose width are too small (i.e., <= 1e-8) in feature 0 are removed. Consider decreasing the number of bins.\n",
      "  warnings.warn(\n",
      "/Users/josegustavofuentescabrera/entornos/woe/lib/python3.13/site-packages/sklearn/preprocessing/_discretization.py:306: UserWarning: Bins whose width are too small (i.e., <= 1e-8) in feature 0 are removed. Consider decreasing the number of bins.\n",
      "  warnings.warn(\n",
      "/Users/josegustavofuentescabrera/entornos/woe/lib/python3.13/site-packages/sklearn/preprocessing/_discretization.py:306: UserWarning: Bins whose width are too small (i.e., <= 1e-8) in feature 0 are removed. Consider decreasing the number of bins.\n",
      "  warnings.warn(\n",
      "/Users/josegustavofuentescabrera/entornos/woe/lib/python3.13/site-packages/sklearn/preprocessing/_discretization.py:306: UserWarning: Bins whose width are too small (i.e., <= 1e-8) in feature 0 are removed. Consider decreasing the number of bins.\n",
      "  warnings.warn(\n",
      "/Users/josegustavofuentescabrera/entornos/woe/lib/python3.13/site-packages/sklearn/preprocessing/_discretization.py:306: UserWarning: Bins whose width are too small (i.e., <= 1e-8) in feature 0 are removed. Consider decreasing the number of bins.\n",
      "  warnings.warn(\n"
     ]
    },
    {
     "name": "stdout",
     "output_type": "stream",
     "text": [
      "Best continuous features:  [{'feature': 'disc_C_AMT_GOODS_PRICE_2_kmeans', 'iv': 0.054272636178136976, 'relevant': True, 'root_feature': 'C_AMT_GOODS_PRICE', 'nbins': '2', 'method': 'kmeans', 'selected': True}, {'feature': 'disc_C_OWN_CAR_AGE_3_kmeans', 'iv': 0.13493592841524896, 'relevant': True, 'root_feature': 'C_OWN_CAR_AGE', 'nbins': '3', 'method': 'kmeans', 'selected': True}, {'feature': 'disc_C_TOTALAREA_MODE_3_quantile', 'iv': 0.1259702243075047, 'relevant': True, 'root_feature': 'C_TOTALAREA_MODE', 'nbins': '3', 'method': 'quantile', 'selected': True}]\n",
      "Best discrete features:  {'D_CODE_GENDER': 0.10698023203218116}\n",
      "Best Features selected:  ['D_CODE_GENDER', 'disc_C_AMT_GOODS_PRICE_2_kmeans', 'disc_C_OWN_CAR_AGE_3_kmeans', 'disc_C_TOTALAREA_MODE_3_quantile']\n"
     ]
    }
   ],
   "source": [
    "#   Now we proceed with feature selection, we have special classes for each type of feature (discrete,continuous)\n",
    "#   Discrete feature selector uses the given iv_threshold to select the best features only.\n",
    "#   For continuous feature selector, a variety of methods are available for selecting the best features , namely:\n",
    "#    -uniform: only uses equal-width discretized bins, selects number of bins with best IV value.  \n",
    "#    -quantile: only uses equal-frequency discretized bins, selects number of bins with best IV value \n",
    "#    -kmeans: only uses discretized bins created by a K-Means clustering, selects number of bins with best IV value \n",
    "#    -gaussian: only uses discretized bins created by a Gaussian Mixture, selects number of bins with best IV value\n",
    "#    -dcc: stands for Discrete Competitive Combination, creates segments for all individual methods and then \n",
    "#          selects the best method and its corresponding best number of bins for each feature.\n",
    "#    -dec: stands for Discrete Exhaustive Combination, creates segments for all individual methods and then \n",
    "#          selects the best number of bins for each feature including every feasible method.\n",
    "#\n",
    "#   One can configure IV threshold, minimun/maximum number of discretization bins, whether or not to keep only\n",
    "#   strictly monotonic segments and the number of pooling threads used in order to speed computations. \n",
    "\n",
    "\n",
    "Xt = pd.concat([Xt,train[varc]],axis=1) #Merge continuous features matrix with the normalized discrete predictors Matrix\n",
    "\n",
    "wcf = WoeContinuousFeatureSelector()\n",
    "wdf = WoeDiscreteFeatureSelector()\n",
    "\n",
    "#  Perform feature selection\n",
    "wcf.fit(Xt[varc],train['TARGET'],\n",
    "        max_bins=6,\n",
    "        strictly_monotonic=True,\n",
    "        iv_threshold=0.05,\n",
    "        method='dcc',\n",
    "        n_threads=20)\n",
    "\n",
    "wdf.fit(Xt[vard],train['TARGET'],iv_threshold=0.1)\n",
    "\n",
    "#  Create new matrix with discrete and discretized best features \n",
    "Xt = pd.concat([wdf.transform(Xt[vard]),wcf.transform(Xt[varc])],axis=1)\n",
    "\n",
    "features = list(Xt.columns)\n",
    "\n",
    "#  Print selection results\n",
    "print(\"Best continuous features: \", wcf.selected_features)\n",
    "print(\"Best discrete features: \",wdf.selected_features)\n",
    "print(\"Best Features selected: \",features)"
   ]
  },
  {
   "cell_type": "markdown",
   "metadata": {},
   "source": [
    "## WoE Transformation "
   ]
  },
  {
   "cell_type": "code",
   "execution_count": 7,
   "metadata": {
    "ExecuteTime": {
     "end_time": "2022-06-30T01:13:08.249150Z",
     "start_time": "2022-06-30T01:13:08.180193Z"
    }
   },
   "outputs": [
    {
     "name": "stderr",
     "output_type": "stream",
     "text": [
      "/Users/josegustavofuentescabrera/code/woe-credit-scoring/woe_credit_scoring/CreditScoringToolkit.py:544: FutureWarning: Downcasting behavior in `replace` is deprecated and will be removed in a future version. To retain the old behavior, explicitly call `result.infer_objects(copy=False)`. To opt-in to the future behavior, set `pd.set_option('future.no_silent_downcasting', True)`\n",
      "  aux[feature] = aux[feature].replace(woe_map)\n"
     ]
    },
    {
     "data": {
      "text/html": [
       "<div>\n",
       "<style scoped>\n",
       "    .dataframe tbody tr th:only-of-type {\n",
       "        vertical-align: middle;\n",
       "    }\n",
       "\n",
       "    .dataframe tbody tr th {\n",
       "        vertical-align: top;\n",
       "    }\n",
       "\n",
       "    .dataframe thead th {\n",
       "        text-align: right;\n",
       "    }\n",
       "</style>\n",
       "<table border=\"1\" class=\"dataframe\">\n",
       "  <thead>\n",
       "    <tr style=\"text-align: right;\">\n",
       "      <th></th>\n",
       "      <th>D_CODE_GENDER</th>\n",
       "      <th>disc_C_AMT_GOODS_PRICE_2_kmeans</th>\n",
       "      <th>disc_C_OWN_CAR_AGE_3_kmeans</th>\n",
       "      <th>disc_C_TOTALAREA_MODE_3_quantile</th>\n",
       "    </tr>\n",
       "  </thead>\n",
       "  <tbody>\n",
       "    <tr>\n",
       "      <th>0</th>\n",
       "      <td>-0.397247</td>\n",
       "      <td>-0.066175</td>\n",
       "      <td>-0.099648</td>\n",
       "      <td>-0.230676</td>\n",
       "    </tr>\n",
       "    <tr>\n",
       "      <th>1</th>\n",
       "      <td>0.271721</td>\n",
       "      <td>-0.066175</td>\n",
       "      <td>-0.099648</td>\n",
       "      <td>-0.035932</td>\n",
       "    </tr>\n",
       "    <tr>\n",
       "      <th>2</th>\n",
       "      <td>0.271721</td>\n",
       "      <td>-0.066175</td>\n",
       "      <td>-0.099648</td>\n",
       "      <td>-0.126945</td>\n",
       "    </tr>\n",
       "    <tr>\n",
       "      <th>3</th>\n",
       "      <td>0.271721</td>\n",
       "      <td>-0.066175</td>\n",
       "      <td>-0.099648</td>\n",
       "      <td>-0.126945</td>\n",
       "    </tr>\n",
       "    <tr>\n",
       "      <th>4</th>\n",
       "      <td>0.271721</td>\n",
       "      <td>-0.066175</td>\n",
       "      <td>-0.099648</td>\n",
       "      <td>-0.230676</td>\n",
       "    </tr>\n",
       "  </tbody>\n",
       "</table>\n",
       "</div>"
      ],
      "text/plain": [
       "   D_CODE_GENDER  disc_C_AMT_GOODS_PRICE_2_kmeans  \\\n",
       "0      -0.397247                        -0.066175   \n",
       "1       0.271721                        -0.066175   \n",
       "2       0.271721                        -0.066175   \n",
       "3       0.271721                        -0.066175   \n",
       "4       0.271721                        -0.066175   \n",
       "\n",
       "   disc_C_OWN_CAR_AGE_3_kmeans  disc_C_TOTALAREA_MODE_3_quantile  \n",
       "0                    -0.099648                         -0.230676  \n",
       "1                    -0.099648                         -0.035932  \n",
       "2                    -0.099648                         -0.126945  \n",
       "3                    -0.099648                         -0.126945  \n",
       "4                    -0.099648                         -0.230676  "
      ]
     },
     "execution_count": 7,
     "metadata": {},
     "output_type": "execute_result"
    }
   ],
   "source": [
    "#  Weight of Evidence Transformation\n",
    "we = WoeEncoder()\n",
    "we.fit(Xt[features],train['TARGET'])\n",
    "Xwt = we.transform(Xt[features])\n",
    "Xwt.head()"
   ]
  },
  {
   "cell_type": "markdown",
   "metadata": {},
   "source": [
    "## Logistic Regression Parameter Learning"
   ]
  },
  {
   "cell_type": "code",
   "execution_count": 9,
   "metadata": {
    "ExecuteTime": {
     "end_time": "2022-06-30T01:15:20.177792Z",
     "start_time": "2022-06-30T01:15:19.517564Z"
    }
   },
   "outputs": [
    {
     "name": "stdout",
     "output_type": "stream",
     "text": [
      "AUC for training:  0.6688320314575694\n"
     ]
    }
   ],
   "source": [
    "lr = LogisticRegression()\n",
    "lr.fit(Xwt,train['TARGET'])\n",
    "print(\"AUC for training: \",roc_auc_score(y_score=lr.predict_proba(Xwt)[:,1],y_true=train['TARGET']))"
   ]
  },
  {
   "cell_type": "markdown",
   "metadata": {},
   "source": [
    "## Scoring"
   ]
  },
  {
   "cell_type": "code",
   "execution_count": 10,
   "metadata": {
    "ExecuteTime": {
     "end_time": "2022-06-30T01:17:10.910542Z",
     "start_time": "2022-06-30T01:17:10.859571Z"
    }
   },
   "outputs": [
    {
     "data": {
      "text/html": [
       "<div>\n",
       "<style scoped>\n",
       "    .dataframe tbody tr th:only-of-type {\n",
       "        vertical-align: middle;\n",
       "    }\n",
       "\n",
       "    .dataframe tbody tr th {\n",
       "        vertical-align: top;\n",
       "    }\n",
       "\n",
       "    .dataframe thead th {\n",
       "        text-align: right;\n",
       "    }\n",
       "</style>\n",
       "<table border=\"1\" class=\"dataframe\">\n",
       "  <thead>\n",
       "    <tr style=\"text-align: right;\">\n",
       "      <th></th>\n",
       "      <th></th>\n",
       "      <th>points</th>\n",
       "    </tr>\n",
       "    <tr>\n",
       "      <th>feature</th>\n",
       "      <th>attribute</th>\n",
       "      <th></th>\n",
       "    </tr>\n",
       "  </thead>\n",
       "  <tbody>\n",
       "    <tr>\n",
       "      <th rowspan=\"2\" valign=\"top\">D_CODE_GENDER</th>\n",
       "      <th>F</th>\n",
       "      <td>90</td>\n",
       "    </tr>\n",
       "    <tr>\n",
       "      <th>M</th>\n",
       "      <td>71</td>\n",
       "    </tr>\n",
       "    <tr>\n",
       "      <th rowspan=\"3\" valign=\"top\">disc_C_AMT_GOODS_PRICE_2_kmeans</th>\n",
       "      <th>(-inf, 730735.795]</th>\n",
       "      <td>81</td>\n",
       "    </tr>\n",
       "    <tr>\n",
       "      <th>(730735.795, inf]</th>\n",
       "      <td>89</td>\n",
       "    </tr>\n",
       "    <tr>\n",
       "      <th>MISSING</th>\n",
       "      <td>35</td>\n",
       "    </tr>\n",
       "    <tr>\n",
       "      <th rowspan=\"4\" valign=\"top\">disc_C_OWN_CAR_AGE_3_kmeans</th>\n",
       "      <th>(-inf, 12.582]</th>\n",
       "      <td>102</td>\n",
       "    </tr>\n",
       "    <tr>\n",
       "      <th>(12.582, 41.679]</th>\n",
       "      <td>70</td>\n",
       "    </tr>\n",
       "    <tr>\n",
       "      <th>(41.679, inf]</th>\n",
       "      <td>68</td>\n",
       "    </tr>\n",
       "    <tr>\n",
       "      <th>MISSING</th>\n",
       "      <td>80</td>\n",
       "    </tr>\n",
       "    <tr>\n",
       "      <th rowspan=\"4\" valign=\"top\">disc_C_TOTALAREA_MODE_3_quantile</th>\n",
       "      <th>(-inf, 0.053]</th>\n",
       "      <td>77</td>\n",
       "    </tr>\n",
       "    <tr>\n",
       "      <th>(0.053, 0.111]</th>\n",
       "      <td>81</td>\n",
       "    </tr>\n",
       "    <tr>\n",
       "      <th>(0.111, inf]</th>\n",
       "      <td>105</td>\n",
       "    </tr>\n",
       "    <tr>\n",
       "      <th>MISSING</th>\n",
       "      <td>79</td>\n",
       "    </tr>\n",
       "  </tbody>\n",
       "</table>\n",
       "</div>"
      ],
      "text/plain": [
       "                                                     points\n",
       "feature                          attribute                 \n",
       "D_CODE_GENDER                    F                       90\n",
       "                                 M                       71\n",
       "disc_C_AMT_GOODS_PRICE_2_kmeans  (-inf, 730735.795]      81\n",
       "                                 (730735.795, inf]       89\n",
       "                                 MISSING                 35\n",
       "disc_C_OWN_CAR_AGE_3_kmeans      (-inf, 12.582]         102\n",
       "                                 (12.582, 41.679]        70\n",
       "                                 (41.679, inf]           68\n",
       "                                 MISSING                 80\n",
       "disc_C_TOTALAREA_MODE_3_quantile (-inf, 0.053]           77\n",
       "                                 (0.053, 0.111]          81\n",
       "                                 (0.111, inf]           105\n",
       "                                 MISSING                 79"
      ]
     },
     "execution_count": 10,
     "metadata": {},
     "output_type": "execute_result"
    }
   ],
   "source": [
    "#  In order to perform the scoring transformation, we need the WoE encoded data, \n",
    "#  the WoeEncoder fitted object and the logistic regression fitter object \n",
    "#  to produce a nice formatted scorecard\n",
    "cs = CreditScoring()\n",
    "cs.fit(Xwt,we,lr)\n",
    "cs.scorecard"
   ]
  },
  {
   "cell_type": "markdown",
   "metadata": {},
   "source": [
    "## Validation"
   ]
  },
  {
   "cell_type": "markdown",
   "metadata": {},
   "source": [
    "### Model Generalization"
   ]
  },
  {
   "cell_type": "code",
   "execution_count": 11,
   "metadata": {
    "ExecuteTime": {
     "end_time": "2022-06-30T01:19:11.984029Z",
     "start_time": "2022-06-30T01:19:11.568952Z"
    }
   },
   "outputs": [
    {
     "name": "stdout",
     "output_type": "stream",
     "text": [
      "AUC for validation:  0.6721863542164833\n"
     ]
    },
    {
     "name": "stderr",
     "output_type": "stream",
     "text": [
      "/Users/josegustavofuentescabrera/code/woe-credit-scoring/woe_credit_scoring/CreditScoringToolkit.py:544: FutureWarning: Downcasting behavior in `replace` is deprecated and will be removed in a future version. To retain the old behavior, explicitly call `result.infer_objects(copy=False)`. To opt-in to the future behavior, set `pd.set_option('future.no_silent_downcasting', True)`\n",
      "  aux[feature] = aux[feature].replace(woe_map)\n"
     ]
    }
   ],
   "source": [
    "#  Applying all transformations to the validation data is now easy and straightforward\n",
    "#  we can compute AUC to check model overfitting\n",
    "Xv = pd.concat([wdf.transform(dn.transform(valid[vard])),wcf.transform(valid[varc])],axis=1)\n",
    "Xwv = we.transform(Xv)\n",
    "print(\"AUC for validation: \",roc_auc_score(y_score=lr.predict_proba(Xwv)[:,1],y_true=valid['TARGET']))"
   ]
  },
  {
   "cell_type": "markdown",
   "metadata": {},
   "source": [
    "### Scoring Distributions"
   ]
  },
  {
   "cell_type": "code",
   "execution_count": 12,
   "metadata": {
    "ExecuteTime": {
     "end_time": "2022-06-30T01:28:47.713952Z",
     "start_time": "2022-06-30T01:28:47.492650Z"
    }
   },
   "outputs": [
    {
     "name": "stderr",
     "output_type": "stream",
     "text": [
      "/Users/josegustavofuentescabrera/code/woe-credit-scoring/woe_credit_scoring/CreditScoringToolkit.py:917: FutureWarning: A value is trying to be set on a copy of a DataFrame or Series through chained assignment using an inplace method.\n",
      "The behavior will change in pandas 3.0. This inplace method will never work because the intermediate object on which we are setting values always behaves as a copy.\n",
      "\n",
      "For example, when doing 'df[col].method(value, inplace=True)', try using 'df.method({col: value}, inplace=True)' or df[col] = df[col].method(value) instead, to perform the operation inplace on the original object.\n",
      "\n",
      "\n",
      "  aux[feature].replace(points_map, inplace=True)\n",
      "/Users/josegustavofuentescabrera/code/woe-credit-scoring/woe_credit_scoring/CreditScoringToolkit.py:917: FutureWarning: Downcasting behavior in `replace` is deprecated and will be removed in a future version. To retain the old behavior, explicitly call `result.infer_objects(copy=False)`. To opt-in to the future behavior, set `pd.set_option('future.no_silent_downcasting', True)`\n",
      "  aux[feature].replace(points_map, inplace=True)\n",
      "/Users/josegustavofuentescabrera/code/woe-credit-scoring/woe_credit_scoring/CreditScoringToolkit.py:917: FutureWarning: A value is trying to be set on a copy of a DataFrame or Series through chained assignment using an inplace method.\n",
      "The behavior will change in pandas 3.0. This inplace method will never work because the intermediate object on which we are setting values always behaves as a copy.\n",
      "\n",
      "For example, when doing 'df[col].method(value, inplace=True)', try using 'df.method({col: value}, inplace=True)' or df[col] = df[col].method(value) instead, to perform the operation inplace on the original object.\n",
      "\n",
      "\n",
      "  aux[feature].replace(points_map, inplace=True)\n",
      "/Users/josegustavofuentescabrera/code/woe-credit-scoring/woe_credit_scoring/CreditScoringToolkit.py:917: FutureWarning: Downcasting behavior in `replace` is deprecated and will be removed in a future version. To retain the old behavior, explicitly call `result.infer_objects(copy=False)`. To opt-in to the future behavior, set `pd.set_option('future.no_silent_downcasting', True)`\n",
      "  aux[feature].replace(points_map, inplace=True)\n"
     ]
    },
    {
     "data": {
      "image/png": "[encoded data removed]",
      "text/plain": [
       "<Figure size 640x480 with 1 Axes>"
      ]
     },
     "metadata": {},
     "output_type": "display_data"
    },
    {
     "data": {
      "image/png": "[encoded data removed]",
      "text/plain": [
       "<Figure size 640x480 with 1 Axes>"
      ]
     },
     "metadata": {},
     "output_type": "display_data"
    }
   ],
   "source": [
    "#  We can check the score transformation distributions for training and validation\n",
    "score = pd.concat([pd.concat([cs.transform(we.inverse_transform(Xwv))[['score']].assign(sample='validation'),valid['TARGET']],axis=1),\n",
    "pd.concat([cs.transform(we.inverse_transform(Xwt))[['score']].assign(sample='train'),train['TARGET']],axis=1)\n",
    "                  ],ignore_index=True)\n",
    "\n",
    "for s,d in score.groupby('sample'):\n",
    "    plt.figure()\n",
    "    plt.title(s)\n",
    "    sns.histplot(d['score'],legend=True,fill=True,bins=8)"
   ]
  },
  {
   "cell_type": "markdown",
   "metadata": {},
   "source": [
    "### Event rates"
   ]
  },
  {
   "cell_type": "code",
   "execution_count": 13,
   "metadata": {
    "ExecuteTime": {
     "end_time": "2022-06-30T01:34:54.540469Z",
     "start_time": "2022-06-30T01:34:54.297575Z"
    }
   },
   "outputs": [
    {
     "data": {
      "text/plain": [
       "<Figure size 640x480 with 0 Axes>"
      ]
     },
     "metadata": {},
     "output_type": "display_data"
    },
    {
     "data": {
      "image/png": "[encoded data removed]",
      "text/plain": [
       "<Figure size 640x480 with 1 Axes>"
      ]
     },
     "metadata": {},
     "output_type": "display_data"
    },
    {
     "data": {
      "text/plain": [
       "<Figure size 640x480 with 0 Axes>"
      ]
     },
     "metadata": {},
     "output_type": "display_data"
    },
    {
     "data": {
      "image/png": "[encoded data removed]",
      "text/plain": [
       "<Figure size 640x480 with 1 Axes>"
      ]
     },
     "metadata": {},
     "output_type": "display_data"
    }
   ],
   "source": [
    "#   Finally, we can observe that, the greater the score, the lower the probability of being a \n",
    "#   bad customer (label=1) for both samples. Now all complexity is absorbed   \n",
    "score['score_range'] = pd.cut(score['score'],bins=6,include_lowest=True).astype(str)\n",
    "for s,d in score.groupby('sample'):\n",
    "    aux = d.pivot_table(index='TARGET',\n",
    "                        columns='score_range',\n",
    "                        values='score',\n",
    "                        aggfunc='count',\n",
    "                        fill_value=0)\n",
    "    aux/=aux.sum()\n",
    "    aux = aux.T\n",
    "    plt.figure()\n",
    "    ax = aux.plot(kind='bar',stacked=True,color=['purple','black'])\n",
    "    plt.title(s)"
   ]
  },
  {
   "cell_type": "code",
   "execution_count": null,
   "metadata": {},
   "outputs": [],
   "source": []
  }
 ],
 "metadata": {
  "kernelspec": {
   "display_name": "WOE Credit Scoring",
   "language": "python",
   "name": "woe"
  },
  "language_info": {
   "codemirror_mode": {
    "name": "ipython",
    "version": 3
   },
   "file_extension": ".py",
   "mimetype": "text/x-python",
   "name": "python",
   "nbconvert_exporter": "python",
   "pygments_lexer": "ipython3",
   "version": "3.13.2"
  },
  "toc": {
   "base_numbering": 1,
   "nav_menu": {},
   "number_sections": true,
   "sideBar": true,
   "skip_h1_title": false,
   "title_cell": "Table of Contents",
   "title_sidebar": "Contents",
   "toc_cell": false,
   "toc_position": {
    "height": "calc(100% - 180px)",
    "left": "10px",
    "top": "150px",
    "width": "341.333px"
   },
   "toc_section_display": true,
   "toc_window_display": true
  }
 },
 "nbformat": 4,
 "nbformat_minor": 2
}
