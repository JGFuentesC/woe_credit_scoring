{
 "cells": [
  {
   "cell_type": "code",
   "execution_count": null,
   "metadata": {},
   "outputs": [],
   "source": [
    "import pandas as pd \n",
    "from CreditScoringToolkit import DiscreteNormalizer\n",
    "from CreditScoringToolkit import frequency_table\n",
    "from CreditScoringToolkit import WoeBaseFeatureSelector\n",
    "from CreditScoringToolkit import Discretizer\n",
    "from CreditScoringToolkit import WoeEncoder\n",
    "from CreditScoringToolkit import WoeContinuousFeatureSelector,WoeDiscreteFeatureSelector,CreditScoring\n",
    "pd.set_option('future.no_silent_downcasting', True)"
   ]
  },
  {
   "cell_type": "code",
   "execution_count": null,
   "metadata": {},
   "outputs": [],
   "source": [
    "df = pd.read_csv('example_data/train.csv')\n",
    "df.shape"
   ]
  },
  {
   "cell_type": "code",
   "execution_count": null,
   "metadata": {},
   "outputs": [],
   "source": [
    "vard = [v for v in df.columns if v.startswith('D_')]\n",
    "varc = [v for v in df.columns if v.startswith('C_')]\n",
    "len(vard), len(varc)"
   ]
  },
  {
   "cell_type": "code",
   "execution_count": null,
   "metadata": {},
   "outputs": [],
   "source": [
    "dn = DiscreteNormalizer()\n",
    "dn.fit(df[vard])\n",
    "Xd = dn.transform(df[vard])"
   ]
  },
  {
   "cell_type": "code",
   "execution_count": null,
   "metadata": {},
   "outputs": [],
   "source": [
    "wcf = WoeContinuousFeatureSelector()"
   ]
  },
  {
   "cell_type": "code",
   "execution_count": null,
   "metadata": {},
   "outputs": [],
   "source": [
    "wcf.fit(df[varc[-2:]],df['TARGET'],\n",
    "        max_bins=6,\n",
    "        strictly_monotonic=True,\n",
    "        iv_threshold=0.05,\n",
    "        method='quantile',\n",
    "        n_threads=20)"
   ]
  },
  {
   "cell_type": "code",
   "execution_count": null,
   "metadata": {},
   "outputs": [],
   "source": [
    "wcf.transform(df[varc[-2:]])"
   ]
  },
  {
   "cell_type": "code",
   "execution_count": null,
   "metadata": {},
   "outputs": [],
   "source": [
    "wdf = WoeDiscreteFeatureSelector()\n",
    "wdf.fit(Xd,df['TARGET'],iv_threshold=0.1)\n",
    "wdf.transform(Xd)"
   ]
  },
  {
   "cell_type": "code",
   "execution_count": null,
   "metadata": {},
   "outputs": [],
   "source": []
  }
 ],
 "metadata": {
  "kernelspec": {
   "display_name": "WOE Credit Scoring",
   "language": "python",
   "name": "woe"
  },
  "language_info": {
   "codemirror_mode": {
    "name": "ipython",
    "version": 3
   },
   "file_extension": ".py",
   "mimetype": "text/x-python",
   "name": "python",
   "nbconvert_exporter": "python",
   "pygments_lexer": "ipython3",
   "version": "3.13.2"
  }
 },
 "nbformat": 4,
 "nbformat_minor": 2
}
